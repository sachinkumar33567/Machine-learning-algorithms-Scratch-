{
 "cells": [
  {
   "cell_type": "code",
   "execution_count": 135,
   "id": "1ed7f5bc",
   "metadata": {},
   "outputs": [],
   "source": [
    "class LogisticRegression:\n",
    "    \n",
    "    def __init__(self, learning_rate=.1, n_iters=10):\n",
    "        self.lr = learning_rate\n",
    "        self.n_iters = n_iters\n",
    "        self.weights = None\n",
    "        self.bias = None\n",
    "    \n",
    "    def fit(self, x, y):\n",
    "        n_samples, n_features = x.shape\n",
    "        \n",
    "        # init parameters\n",
    "        self.weights = np.zeros(n_features)\n",
    "        self.bias = 0\n",
    "        \n",
    "        # gradient descents\n",
    "        for _ in range(self.n_iters):\n",
    "            # approximate y with linear combination of weights and x, plus bias\n",
    "            linear_model = np.dot(x, self.weights) + self.bias\n",
    "            # applly sigmoid function\n",
    "            y_pred = self.sigmoid(linear_model)\n",
    "            \n",
    "            # compute gradients\n",
    "            dw = (1/n_samples) * np.dot(x.T, (y_pred - y))\n",
    "            db = (1/n_samples) * np.sum(y_pred - y)\n",
    "            \n",
    "            # update parameters\n",
    "            self.weights -= self.lr * dw\n",
    "            self.bias -= self.lr * db\n",
    "        return 'data has been train carefully'\n",
    "    \n",
    "    def sigmoid(self, z):\n",
    "        return 1/(1+np.exp(-z))\n",
    "            \n",
    "    def predict(self, x):\n",
    "        linear_model = np.dot(x, self.weights) + self.bias\n",
    "        y_pred = self.sigmoid(linear_model)\n",
    "        predicted_class = [1 if i > .5 else 0 for i in y_pred]\n",
    "        return np.array(predicted_class)\n",
    "    \n",
    "    def score(self, y_true, y_pred):\n",
    "        # accuracy = (TP+TN)/(TP+TN+FP+FN)\n",
    "        acc = np.sum(y_true==y_pred)/len(y_true)\n",
    "        return acc"
   ]
  },
  {
   "cell_type": "code",
   "execution_count": null,
   "id": "101b7669",
   "metadata": {},
   "outputs": [],
   "source": []
  },
  {
   "cell_type": "code",
   "execution_count": 20,
   "id": "7c0b9221",
   "metadata": {},
   "outputs": [],
   "source": [
    "from sklearn.model_selection import train_test_split as split\n",
    "from sklearn.datasets import load_breast_cancer"
   ]
  },
  {
   "cell_type": "code",
   "execution_count": 21,
   "id": "abccdf5e",
   "metadata": {},
   "outputs": [],
   "source": [
    "df = load_breast_cancer()"
   ]
  },
  {
   "cell_type": "code",
   "execution_count": 22,
   "id": "4a96bd6e",
   "metadata": {},
   "outputs": [],
   "source": [
    "x = df.data\n",
    "y = df.target"
   ]
  },
  {
   "cell_type": "code",
   "execution_count": 23,
   "id": "e2083a84",
   "metadata": {},
   "outputs": [],
   "source": [
    "x_train, x_test, y_train, y_test = split(x, y, test_size=.2, random_state=1234)"
   ]
  },
  {
   "cell_type": "code",
   "execution_count": 140,
   "id": "5c9ce82f",
   "metadata": {},
   "outputs": [],
   "source": [
    "model = LogisticRegression(learning_rate=.0001, n_iters=1000)"
   ]
  },
  {
   "cell_type": "code",
   "execution_count": 141,
   "id": "eb31da76",
   "metadata": {},
   "outputs": [
    {
     "data": {
      "text/plain": [
       "'data has been train carefully'"
      ]
     },
     "execution_count": 141,
     "metadata": {},
     "output_type": "execute_result"
    }
   ],
   "source": [
    "model.fit(x_train, y_train)"
   ]
  },
  {
   "cell_type": "code",
   "execution_count": 142,
   "id": "61513ece",
   "metadata": {},
   "outputs": [
    {
     "data": {
      "text/plain": [
       "array([1, 1, 1, 1, 1, 1, 0, 1, 0, 0, 0, 1, 1, 1, 1, 0, 1, 1, 1, 0, 1, 0,\n",
       "       0, 0, 0, 0, 0, 1, 1, 1, 1, 1, 0, 1, 1, 1, 1, 0, 0, 1, 0, 1, 0, 1,\n",
       "       1, 1, 1, 0, 0, 1, 1, 1, 1, 0, 0, 1, 1, 1, 1, 0, 1, 1, 1, 1, 1, 0,\n",
       "       0, 1, 1, 0, 1, 0, 1, 1, 1, 1, 1, 0, 1, 0, 1, 1, 1, 1, 0, 0, 0, 0,\n",
       "       1, 1, 1, 1, 1, 0, 1, 1, 1, 1, 1, 1, 0, 0, 1, 1, 0, 1, 1, 0, 1, 1,\n",
       "       0, 0, 0, 0])"
      ]
     },
     "execution_count": 142,
     "metadata": {},
     "output_type": "execute_result"
    }
   ],
   "source": [
    "model.predict(x_test)"
   ]
  },
  {
   "cell_type": "code",
   "execution_count": 143,
   "id": "b543931f",
   "metadata": {},
   "outputs": [
    {
     "data": {
      "text/plain": [
       "0.9298245614035088"
      ]
     },
     "execution_count": 143,
     "metadata": {},
     "output_type": "execute_result"
    }
   ],
   "source": [
    "model.score(y_test, model.predict(x_test))"
   ]
  },
  {
   "cell_type": "code",
   "execution_count": 144,
   "id": "bf067e4a",
   "metadata": {},
   "outputs": [
    {
     "data": {
      "text/plain": [
       "array([1, 1, 1, 1, 1, 1, 0, 1, 0, 0, 0, 1, 1, 1, 1, 0, 1, 1, 1, 0, 1, 0,\n",
       "       0, 0, 0, 1, 0, 1, 1, 1, 1, 1, 0, 1, 1, 1, 1, 0, 0, 1, 0, 1, 0, 1,\n",
       "       1, 1, 1, 0, 0, 1, 1, 1, 1, 0, 0, 1, 1, 1, 1, 0, 1, 1, 1, 1, 1, 0,\n",
       "       0, 1, 1, 0, 1, 0, 1, 0, 1, 1, 1, 0, 1, 0, 1, 1, 1, 0, 0, 0, 0, 0,\n",
       "       1, 0, 1, 0, 1, 0, 0, 1, 1, 1, 1, 1, 0, 0, 1, 1, 0, 1, 1, 0, 0, 1,\n",
       "       0, 1, 0, 0])"
      ]
     },
     "execution_count": 144,
     "metadata": {},
     "output_type": "execute_result"
    }
   ],
   "source": [
    "y_test"
   ]
  },
  {
   "cell_type": "code",
   "execution_count": 3,
   "id": "32865be7",
   "metadata": {},
   "outputs": [],
   "source": [
    "w = np.array([[1], [6], [2], [4]])"
   ]
  },
  {
   "cell_type": "code",
   "execution_count": 4,
   "id": "d8599633",
   "metadata": {},
   "outputs": [
    {
     "data": {
      "text/plain": [
       "array([[1],\n",
       "       [6],\n",
       "       [2],\n",
       "       [4]])"
      ]
     },
     "execution_count": 4,
     "metadata": {},
     "output_type": "execute_result"
    }
   ],
   "source": [
    "w"
   ]
  },
  {
   "cell_type": "code",
   "execution_count": 5,
   "id": "0e75006e",
   "metadata": {},
   "outputs": [
    {
     "data": {
      "text/plain": [
       "(4, 1)"
      ]
     },
     "execution_count": 5,
     "metadata": {},
     "output_type": "execute_result"
    }
   ],
   "source": [
    "w.shape"
   ]
  },
  {
   "cell_type": "code",
   "execution_count": 6,
   "id": "cb3e0c15",
   "metadata": {},
   "outputs": [],
   "source": [
    "x = np.array([[3, 8, 2, 4], [5, 1, 9, 6], [2, 7, 1, 3]])"
   ]
  },
  {
   "cell_type": "code",
   "execution_count": 7,
   "id": "172b0a9d",
   "metadata": {},
   "outputs": [
    {
     "data": {
      "text/plain": [
       "array([[3, 8, 2, 4],\n",
       "       [5, 1, 9, 6],\n",
       "       [2, 7, 1, 3]])"
      ]
     },
     "execution_count": 7,
     "metadata": {},
     "output_type": "execute_result"
    }
   ],
   "source": [
    "x"
   ]
  },
  {
   "cell_type": "code",
   "execution_count": 8,
   "id": "2140ebef",
   "metadata": {},
   "outputs": [
    {
     "data": {
      "text/plain": [
       "(3, 4)"
      ]
     },
     "execution_count": 8,
     "metadata": {},
     "output_type": "execute_result"
    }
   ],
   "source": [
    "x.shape"
   ]
  },
  {
   "cell_type": "code",
   "execution_count": 13,
   "id": "0779335b",
   "metadata": {},
   "outputs": [],
   "source": [
    "dot_prod = np.dot(w.T, x.T)"
   ]
  },
  {
   "cell_type": "code",
   "execution_count": 16,
   "id": "9a605491",
   "metadata": {},
   "outputs": [],
   "source": [
    "sum_prod = np.sum(w.T * x)"
   ]
  },
  {
   "cell_type": "code",
   "execution_count": 19,
   "id": "834320ec",
   "metadata": {},
   "outputs": [
    {
     "data": {
      "text/plain": [
       "(1, 3)"
      ]
     },
     "execution_count": 19,
     "metadata": {},
     "output_type": "execute_result"
    }
   ],
   "source": [
    "dot_prod.shape"
   ]
  },
  {
   "cell_type": "code",
   "execution_count": 18,
   "id": "0d933f8b",
   "metadata": {},
   "outputs": [
    {
     "data": {
      "text/plain": [
       "182"
      ]
     },
     "execution_count": 18,
     "metadata": {},
     "output_type": "execute_result"
    }
   ],
   "source": [
    "sum_prod"
   ]
  },
  {
   "cell_type": "code",
   "execution_count": null,
   "id": "ea41658c",
   "metadata": {},
   "outputs": [],
   "source": []
  }
 ],
 "metadata": {
  "kernelspec": {
   "display_name": "Python 3",
   "language": "python",
   "name": "python3"
  },
  "language_info": {
   "codemirror_mode": {
    "name": "ipython",
    "version": 3
   },
   "file_extension": ".py",
   "mimetype": "text/x-python",
   "name": "python",
   "nbconvert_exporter": "python",
   "pygments_lexer": "ipython3",
   "version": "3.8.8"
  }
 },
 "nbformat": 4,
 "nbformat_minor": 5
}
